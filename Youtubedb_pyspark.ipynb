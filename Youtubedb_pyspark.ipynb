{
 "cells": [
  {
   "cell_type": "code",
   "execution_count": 18,
   "id": "aa119c31",
   "metadata": {},
   "outputs": [],
   "source": [
    "# for suppress warnings\n",
    "# python packages\n",
    "import matplotlib.pyplot as plt\n",
    "import seaborn as sns\n",
    "\n",
    "import warnings\n",
    "warnings.simplefilter(\"ignore\")"
   ]
  },
  {
   "cell_type": "code",
   "execution_count": 59,
   "id": "69774c25",
   "metadata": {},
   "outputs": [
    {
     "name": "stdout",
     "output_type": "stream",
     "text": [
      "pyspark-shell\n"
     ]
    }
   ],
   "source": [
    "import os\n",
    "os.environ[\"JAVA_HOME\"] = \"/Program Files/Java/jdk1.8.0_281\"\n",
    "os.environ[\"SPARK_HOME\"] = \"/Users/rishnamc/Documents/Maveric/Spark/spark-3.1.2-bin-hadoop2.7\"\n",
    "\n",
    "import findspark\n",
    "findspark.init()\n",
    "\n",
    "import glob as g\n",
    "import datetime\n",
    "from pyspark.sql import SparkSession\n",
    "from pyspark import SparkConf\n",
    "from pyspark import SparkContext\n",
    "import pyspark.sql.functions as f\n",
    "from pyspark.sql.functions import *\n",
    "from pyspark.sql.types import StructType, StructField\n",
    "from pyspark.sql.types import *\n",
    "\n",
    "sc = SparkContext.getOrCreate(SparkConf().setMaster(\"local[*]\"))\n",
    "spark = SparkSession.builder.appName(\"YouTube Data Analysis\").getOrCreate()\n",
    "print(spark.sparkContext.appName)"
   ]
  },
  {
   "cell_type": "code",
   "execution_count": 61,
   "id": "98333be2",
   "metadata": {
    "scrolled": true
   },
   "outputs": [
    {
     "data": {
      "text/plain": [
       "StructType(List(StructField(video_id,StringType,true),StructField(trending_date,DateType,true),StructField(title,StringType,true),StructField(channel_title,StringType,true),StructField(category_id,IntegerType,true),StructField(publish_time,TimestampType,true),StructField(tags,StringType,true),StructField(views,IntegerType,true),StructField(likes,IntegerType,true),StructField(dislikes,IntegerType,true),StructField(comment_count,IntegerType,true),StructField(thumbnail_link,StringType,true),StructField(comments_disabled,StringType,true),StructField(ratings_disabled,StringType,true),StructField(video_error_or_removed,StringType,true),StructField(description,StringType,true)))"
      ]
     },
     "execution_count": 61,
     "metadata": {},
     "output_type": "execute_result"
    }
   ],
   "source": [
    "mySchema = StructType([ StructField(\"video_id\", StringType(), True)\\\n",
    "                       ,StructField(\"trending_date\", DateType(), True)\\\n",
    "                       ,StructField(\"title\", StringType(), True)\\\n",
    "                       ,StructField(\"channel_title\", StringType(), True)\\\n",
    "                       ,StructField(\"category_id\", IntegerType(), True)\\\n",
    "                       ,StructField(\"publish_time\", TimestampType(), True)\\\n",
    "                       ,StructField(\"tags\", StringType(), True)\\\n",
    "                       ,StructField(\"views\", IntegerType(), True)\\\n",
    "                       ,StructField(\"likes\", IntegerType(), True)\\\n",
    "                       ,StructField(\"dislikes\", IntegerType(), True)\\\n",
    "                       ,StructField(\"comment_count\", IntegerType(), True)\\\n",
    "                       ,StructField(\"thumbnail_link\", StringType(), True)\\\n",
    "                       ,StructField(\"comments_disabled\", StringType(), True)\\\n",
    "                       ,StructField(\"ratings_disabled\", StringType(), True)\\\n",
    "                       ,StructField(\"video_error_or_removed\", StringType(), True)\\\n",
    "                       ,StructField(\"description\", StringType(), True)])\n",
    "mySchema"
   ]
  },
  {
   "cell_type": "code",
   "execution_count": null,
   "id": "100ba3ec",
   "metadata": {},
   "outputs": [],
   "source": []
  },
  {
   "cell_type": "code",
   "execution_count": 62,
   "id": "9dac41fc",
   "metadata": {},
   "outputs": [],
   "source": [
    "paths = g.glob(\"*.csv\", recursive=True)\n",
    "all_csv = spark.read.csv(paths, header=True)"
   ]
  },
  {
   "cell_type": "code",
   "execution_count": 21,
   "id": "bb594835",
   "metadata": {},
   "outputs": [
    {
     "name": "stdout",
     "output_type": "stream",
     "text": [
      "+-----------+-------------+--------------------+-------------+-----------+--------------------+--------------------+------+-----+--------+-------------+--------------------+-----------------+----------------+----------------------+--------------------+\n",
      "|   video_id|trending_date|               title|channel_title|category_id|        publish_time|                tags| views|likes|dislikes|comment_count|      thumbnail_link|comments_disabled|ratings_disabled|video_error_or_removed|         description|\n",
      "+-----------+-------------+--------------------+-------------+-----------+--------------------+--------------------+------+-----+--------+-------------+--------------------+-----------------+----------------+----------------------+--------------------+\n",
      "|gDuslQ9avLc|     17.14.11|Захар и Полина уч...|    Т—Ж БОГАЧ|         22|2017-11-13T09:09:...|\"захар и полина|\"...| 62408|  334|     190|           50|https://i.ytimg.c...|            FALSE|           FALSE|                 FALSE|Знакомьтесь, это ...|\n",
      "|AOCJIFEA_jE|     17.14.11|Биржа Мемов #29. ...| Druzhko Show|         22|2017-11-13T17:32:...|\"биржа мемов|\"\"ле...|330043|43841|    2244|         2977|https://i.ytimg.c...|            FALSE|           FALSE|                 FALSE|В 29 выпуске Друж...|\n",
      "|VAWNQDgwwOM|     17.14.11|ХАЙП КЭМП - СВОЙ ...|         Юлик|         24|2017-11-13T16:11:...|\"юмор|\"\"комедия\"\"...|424596|49854|     714|         2944|https://i.ytimg.c...|            FALSE|           FALSE|                 FALSE|http://kapitany.r...|\n",
      "|gknkFwKQfHg|     17.14.11|Сочная кесадилья ...|     Hochland|         22|2017-11-13T06:51:...|\"хохланд|\"\"сыр\"\"|...|112851| 3566|     122|           80|https://i.ytimg.c...|            FALSE|           FALSE|                 FALSE|*** как готовить ...|\n",
      "|3sYvZcwzZr8|     17.14.11|КЛИПЫ РОДИТЕЛЕЙ Н...|     Совергон|         24|2017-11-13T16:52:...|\"Совергон|\"\"Sover...|243469|36216|     631|         1692|https://i.ytimg.c...|            FALSE|           FALSE|                 FALSE|❏ КОНКУРС КАПИТАН...|\n",
      "+-----------+-------------+--------------------+-------------+-----------+--------------------+--------------------+------+-----+--------+-------------+--------------------+-----------------+----------------+----------------------+--------------------+\n",
      "only showing top 5 rows\n",
      "\n",
      "root\n",
      " |-- video_id: string (nullable = true)\n",
      " |-- trending_date: string (nullable = true)\n",
      " |-- title: string (nullable = true)\n",
      " |-- channel_title: string (nullable = true)\n",
      " |-- category_id: string (nullable = true)\n",
      " |-- publish_time: string (nullable = true)\n",
      " |-- tags: string (nullable = true)\n",
      " |-- views: string (nullable = true)\n",
      " |-- likes: string (nullable = true)\n",
      " |-- dislikes: string (nullable = true)\n",
      " |-- comment_count: string (nullable = true)\n",
      " |-- thumbnail_link: string (nullable = true)\n",
      " |-- comments_disabled: string (nullable = true)\n",
      " |-- ratings_disabled: string (nullable = true)\n",
      " |-- video_error_or_removed: string (nullable = true)\n",
      " |-- description: string (nullable = true)\n",
      "\n"
     ]
    }
   ],
   "source": [
    "all_csv.show(5)\n",
    "all_csv.printSchema()"
   ]
  },
  {
   "cell_type": "code",
   "execution_count": 5,
   "id": "949ef0a6",
   "metadata": {},
   "outputs": [
    {
     "name": "stdout",
     "output_type": "stream",
     "text": [
      "Shape of the records in csv file 416869 16\n"
     ]
    }
   ],
   "source": [
    "print(\"Shape of the records in csv file\",all_csv.count(),len(all_csv.columns))"
   ]
  },
  {
   "cell_type": "code",
   "execution_count": 63,
   "id": "3a51b73e",
   "metadata": {},
   "outputs": [],
   "source": [
    "#Remove irrelevant columns.\n",
    "all_csv=all_csv.drop('thumbnail_link','comments_disabled','ratings_disabled','video_error_or_removed','description')"
   ]
  },
  {
   "cell_type": "code",
   "execution_count": 23,
   "id": "4d84bba9",
   "metadata": {},
   "outputs": [
    {
     "data": {
      "text/plain": [
       "DataFrame[summary: string, video_id: string, trending_date: string, title: string, channel_title: string, category_id: string, publish_time: string, tags: string, views: string, likes: string, dislikes: string, comment_count: string]"
      ]
     },
     "execution_count": 23,
     "metadata": {},
     "output_type": "execute_result"
    }
   ],
   "source": [
    "all_csv.describe()"
   ]
  },
  {
   "cell_type": "code",
   "execution_count": 24,
   "id": "615ee0cd",
   "metadata": {},
   "outputs": [
    {
     "data": {
      "text/plain": [
       "[('video_id', 'string'),\n",
       " ('trending_date', 'string'),\n",
       " ('title', 'string'),\n",
       " ('channel_title', 'string'),\n",
       " ('category_id', 'string'),\n",
       " ('publish_time', 'string'),\n",
       " ('tags', 'string'),\n",
       " ('views', 'string'),\n",
       " ('likes', 'string'),\n",
       " ('dislikes', 'string'),\n",
       " ('comment_count', 'string')]"
      ]
     },
     "execution_count": 24,
     "metadata": {},
     "output_type": "execute_result"
    }
   ],
   "source": [
    "all_csv.dtypes"
   ]
  },
  {
   "cell_type": "code",
   "execution_count": 25,
   "id": "2315b553",
   "metadata": {},
   "outputs": [
    {
     "name": "stdout",
     "output_type": "stream",
     "text": [
      "+-------+--------------------+------------------+------------------+--------------------+------------------+------------------+------------------+------------------+------------------+--------------------+-----------------+\n",
      "|summary|            video_id|     trending_date|             title|       channel_title|       category_id|      publish_time|              tags|             views|             likes|            dislikes|    comment_count|\n",
      "+-------+--------------------+------------------+------------------+--------------------+------------------+------------------+------------------+------------------+------------------+--------------------+-----------------+\n",
      "|  count|              416869|            381271|            379782|              379120|            378301|            377845|            376784|            376598|            376519|              376462|           376448|\n",
      "|   mean|                 1.0|2073.7291666666665| 472.6363636363636|            Infinity|20.232380354520885|              35.5|            2018.0|1326571.6153039972|37884.509065276376|   2126.118314092674|4253.796914401234|\n",
      "| stddev|                null|1052.8906863625862|469.35587187217334|                 NaN|  7.13276802024323|0.7071067811865476|               0.0| 7098576.863455147|165413.49906855077|  22484.427027861093|25458.82197933796|\n",
      "|    min|                 ...|                  |          Chamanes|  agrega más churros|       Exopolitica|   #JohnnyHallyday| #Laeticiahallyday|           #laura |                  | 6000 euros de fr...|          #david |\n",
      "|    25%|                 1.0|            2017.0|             435.0|                33.0|              17.0|              35.0|            2018.0|           46969.0|             669.0|                41.0|            109.0|\n",
      "+-------+--------------------+------------------+------------------+--------------------+------------------+------------------+------------------+------------------+------------------+--------------------+-----------------+\n",
      "only showing top 5 rows\n",
      "\n"
     ]
    }
   ],
   "source": [
    "all_csv.summary().show(5)"
   ]
  },
  {
   "cell_type": "code",
   "execution_count": 10,
   "id": "be7a29b1",
   "metadata": {},
   "outputs": [
    {
     "name": "stdout",
     "output_type": "stream",
     "text": [
      "+-----------+-------------+--------------------+-------------+-----------+--------------------+--------------------+------+-----+--------+-------------+\n",
      "|   video_id|trending_date|               title|channel_title|category_id|        publish_time|                tags| views|likes|dislikes|comment_count|\n",
      "+-----------+-------------+--------------------+-------------+-----------+--------------------+--------------------+------+-----+--------+-------------+\n",
      "|gDuslQ9avLc|     17.14.11|Захар и Полина уч...|    Т—Ж БОГАЧ|         22|2017-11-13T09:09:...|\"захар и полина|\"...| 62408|  334|     190|           50|\n",
      "|AOCJIFEA_jE|     17.14.11|Биржа Мемов #29. ...| Druzhko Show|         22|2017-11-13T17:32:...|\"биржа мемов|\"\"ле...|330043|43841|    2244|         2977|\n",
      "|VAWNQDgwwOM|     17.14.11|ХАЙП КЭМП - СВОЙ ...|         Юлик|         24|2017-11-13T16:11:...|\"юмор|\"\"комедия\"\"...|424596|49854|     714|         2944|\n",
      "|gknkFwKQfHg|     17.14.11|Сочная кесадилья ...|     Hochland|         22|2017-11-13T06:51:...|\"хохланд|\"\"сыр\"\"|...|112851| 3566|     122|           80|\n",
      "|3sYvZcwzZr8|     17.14.11|КЛИПЫ РОДИТЕЛЕЙ Н...|     Совергон|         24|2017-11-13T16:52:...|\"Совергон|\"\"Sover...|243469|36216|     631|         1692|\n",
      "+-----------+-------------+--------------------+-------------+-----------+--------------------+--------------------+------+-----+--------+-------------+\n",
      "only showing top 5 rows\n",
      "\n"
     ]
    }
   ],
   "source": [
    "all_csv.show(5)"
   ]
  },
  {
   "cell_type": "code",
   "execution_count": 11,
   "id": "0db7975e",
   "metadata": {},
   "outputs": [
    {
     "data": {
      "text/html": [
       "<div>\n",
       "<style scoped>\n",
       "    .dataframe tbody tr th:only-of-type {\n",
       "        vertical-align: middle;\n",
       "    }\n",
       "\n",
       "    .dataframe tbody tr th {\n",
       "        vertical-align: top;\n",
       "    }\n",
       "\n",
       "    .dataframe thead th {\n",
       "        text-align: right;\n",
       "    }\n",
       "</style>\n",
       "<table border=\"1\" class=\"dataframe\">\n",
       "  <thead>\n",
       "    <tr style=\"text-align: right;\">\n",
       "      <th></th>\n",
       "      <th>video_id</th>\n",
       "      <th>trending_date</th>\n",
       "      <th>title</th>\n",
       "      <th>channel_title</th>\n",
       "      <th>category_id</th>\n",
       "      <th>publish_time</th>\n",
       "      <th>tags</th>\n",
       "      <th>views</th>\n",
       "      <th>likes</th>\n",
       "      <th>dislikes</th>\n",
       "      <th>comment_count</th>\n",
       "    </tr>\n",
       "  </thead>\n",
       "  <tbody>\n",
       "    <tr>\n",
       "      <th>0</th>\n",
       "      <td>gDuslQ9avLc</td>\n",
       "      <td>17.14.11</td>\n",
       "      <td>Захар и Полина учатся экономить</td>\n",
       "      <td>Т—Ж БОГАЧ</td>\n",
       "      <td>22</td>\n",
       "      <td>2017-11-13T09:09:31.000Z</td>\n",
       "      <td>\"захар и полина|\"\"учимся экономить\"\"|\"\"копить ...</td>\n",
       "      <td>62408</td>\n",
       "      <td>334</td>\n",
       "      <td>190</td>\n",
       "      <td>50</td>\n",
       "    </tr>\n",
       "    <tr>\n",
       "      <th>1</th>\n",
       "      <td>AOCJIFEA_jE</td>\n",
       "      <td>17.14.11</td>\n",
       "      <td>Биржа Мемов #29. Большой выпуск</td>\n",
       "      <td>Druzhko Show</td>\n",
       "      <td>22</td>\n",
       "      <td>2017-11-13T17:32:11.000Z</td>\n",
       "      <td>\"биржа мемов|\"\"лев шагинян\"\"|\"\"мемы\"\"|\"\"пикчи\"...</td>\n",
       "      <td>330043</td>\n",
       "      <td>43841</td>\n",
       "      <td>2244</td>\n",
       "      <td>2977</td>\n",
       "    </tr>\n",
       "    <tr>\n",
       "      <th>2</th>\n",
       "      <td>VAWNQDgwwOM</td>\n",
       "      <td>17.14.11</td>\n",
       "      <td>ХАЙП КЭМП - СВОЙ СРЕДИ ЧУЖИХ</td>\n",
       "      <td>Юлик</td>\n",
       "      <td>24</td>\n",
       "      <td>2017-11-13T16:11:31.000Z</td>\n",
       "      <td>\"юмор|\"\"комедия\"\"|\"\"влог\"\"|\"\"блог\"\"|\"\"смешно\"\"...</td>\n",
       "      <td>424596</td>\n",
       "      <td>49854</td>\n",
       "      <td>714</td>\n",
       "      <td>2944</td>\n",
       "    </tr>\n",
       "    <tr>\n",
       "      <th>3</th>\n",
       "      <td>gknkFwKQfHg</td>\n",
       "      <td>17.14.11</td>\n",
       "      <td>Сочная кесадилья с курицей</td>\n",
       "      <td>Hochland</td>\n",
       "      <td>22</td>\n",
       "      <td>2017-11-13T06:51:10.000Z</td>\n",
       "      <td>\"хохланд|\"\"сыр\"\"|\"\"рецепты\"\"|\"\"как приготовить...</td>\n",
       "      <td>112851</td>\n",
       "      <td>3566</td>\n",
       "      <td>122</td>\n",
       "      <td>80</td>\n",
       "    </tr>\n",
       "    <tr>\n",
       "      <th>4</th>\n",
       "      <td>3sYvZcwzZr8</td>\n",
       "      <td>17.14.11</td>\n",
       "      <td>КЛИПЫ РОДИТЕЛЕЙ НА ШКОЛЬНЫЙ ВЫПУСКНОЙ</td>\n",
       "      <td>Совергон</td>\n",
       "      <td>24</td>\n",
       "      <td>2017-11-13T16:52:36.000Z</td>\n",
       "      <td>\"Совергон|\"\"Sovergon\"\"|\"\"клипы\"\"|\"\"родители\"\"|...</td>\n",
       "      <td>243469</td>\n",
       "      <td>36216</td>\n",
       "      <td>631</td>\n",
       "      <td>1692</td>\n",
       "    </tr>\n",
       "    <tr>\n",
       "      <th>...</th>\n",
       "      <td>...</td>\n",
       "      <td>...</td>\n",
       "      <td>...</td>\n",
       "      <td>...</td>\n",
       "      <td>...</td>\n",
       "      <td>...</td>\n",
       "      <td>...</td>\n",
       "      <td>...</td>\n",
       "      <td>...</td>\n",
       "      <td>...</td>\n",
       "      <td>...</td>\n",
       "    </tr>\n",
       "    <tr>\n",
       "      <th>416864</th>\n",
       "      <td>OMmR9THjVKM</td>\n",
       "      <td>18.14.06</td>\n",
       "      <td>У меня СДВГ! (Story booth на русском) Русская ...</td>\n",
       "      <td>Pastime Time</td>\n",
       "      <td>22</td>\n",
       "      <td>2018-06-13T13:47:01.000Z</td>\n",
       "      <td>\"story booth на русском|\"\"story booth перевод\"...</td>\n",
       "      <td>129488</td>\n",
       "      <td>5893</td>\n",
       "      <td>164</td>\n",
       "      <td>990</td>\n",
       "    </tr>\n",
       "    <tr>\n",
       "      <th>416865</th>\n",
       "      <td>tX7p7NtNVDE</td>\n",
       "      <td>18.14.06</td>\n",
       "      <td>Мои Детские Травмы 2 (анимация)</td>\n",
       "      <td>CaGArt</td>\n",
       "      <td>23</td>\n",
       "      <td>2018-06-12T09:38:38.000Z</td>\n",
       "      <td>\"кагарт|\"\"каги\"\"|\"\"цагарт\"\"|\"\"гагарт\"\"|\"\"какар...</td>\n",
       "      <td>99163</td>\n",
       "      <td>4659</td>\n",
       "      <td>337</td>\n",
       "      <td>692</td>\n",
       "    </tr>\n",
       "    <tr>\n",
       "      <th>416866</th>\n",
       "      <td>KAyj5Xm1C64</td>\n",
       "      <td>18.14.06</td>\n",
       "      <td>[ENG SUB] BTS PROM PARTY 2018 Intro + 2nd Gran...</td>\n",
       "      <td>DaisyxBTS 07</td>\n",
       "      <td>24</td>\n",
       "      <td>2018-06-13T12:51:23.000Z</td>\n",
       "      <td>[none]</td>\n",
       "      <td>449611</td>\n",
       "      <td>24808</td>\n",
       "      <td>93</td>\n",
       "      <td>974</td>\n",
       "    </tr>\n",
       "    <tr>\n",
       "      <th>416867</th>\n",
       "      <td>4PiSLIrsSiY</td>\n",
       "      <td>18.14.06</td>\n",
       "      <td>ОБЗОР ВАННОЙ КОМНАТЫ🛁/ТУАЛЕТНОЙ КОМНАТЫ🚽 + ДЕК...</td>\n",
       "      <td>Ксюша Лебедева</td>\n",
       "      <td>22</td>\n",
       "      <td>2018-06-13T00:23:33.000Z</td>\n",
       "      <td>\"рум тур ванной комнаты|\"\"room tour bathroom\"\"...</td>\n",
       "      <td>14225</td>\n",
       "      <td>793</td>\n",
       "      <td>39</td>\n",
       "      <td>209</td>\n",
       "    </tr>\n",
       "    <tr>\n",
       "      <th>416868</th>\n",
       "      <td>Ehy5foVfKOE</td>\n",
       "      <td>18.14.06</td>\n",
       "      <td>Плохой сигнал. Стань человеком!</td>\n",
       "      <td>Tubus Show</td>\n",
       "      <td>29</td>\n",
       "      <td>2018-06-13T09:50:09.000Z</td>\n",
       "      <td>\"плохой сигнал|\"\"тубус шоу\"\"|\"\"reebok\"\"|\"\"стан...</td>\n",
       "      <td>52340</td>\n",
       "      <td>7708</td>\n",
       "      <td>133</td>\n",
       "      <td>1819</td>\n",
       "    </tr>\n",
       "  </tbody>\n",
       "</table>\n",
       "<p>416869 rows × 11 columns</p>\n",
       "</div>"
      ],
      "text/plain": [
       "           video_id trending_date  \\\n",
       "0       gDuslQ9avLc      17.14.11   \n",
       "1       AOCJIFEA_jE      17.14.11   \n",
       "2       VAWNQDgwwOM      17.14.11   \n",
       "3       gknkFwKQfHg      17.14.11   \n",
       "4       3sYvZcwzZr8      17.14.11   \n",
       "...             ...           ...   \n",
       "416864  OMmR9THjVKM      18.14.06   \n",
       "416865  tX7p7NtNVDE      18.14.06   \n",
       "416866  KAyj5Xm1C64      18.14.06   \n",
       "416867  4PiSLIrsSiY      18.14.06   \n",
       "416868  Ehy5foVfKOE      18.14.06   \n",
       "\n",
       "                                                    title   channel_title  \\\n",
       "0                         Захар и Полина учатся экономить       Т—Ж БОГАЧ   \n",
       "1                        Биржа Мемов #29. Большой выпуск    Druzhko Show   \n",
       "2                            ХАЙП КЭМП - СВОЙ СРЕДИ ЧУЖИХ            Юлик   \n",
       "3                              Сочная кесадилья с курицей        Hochland   \n",
       "4                   КЛИПЫ РОДИТЕЛЕЙ НА ШКОЛЬНЫЙ ВЫПУСКНОЙ        Совергон   \n",
       "...                                                   ...             ...   \n",
       "416864  У меня СДВГ! (Story booth на русском) Русская ...    Pastime Time   \n",
       "416865                    Мои Детские Травмы 2 (анимация)          CaGArt   \n",
       "416866  [ENG SUB] BTS PROM PARTY 2018 Intro + 2nd Gran...    DaisyxBTS 07   \n",
       "416867  ОБЗОР ВАННОЙ КОМНАТЫ🛁/ТУАЛЕТНОЙ КОМНАТЫ🚽 + ДЕК...  Ксюша Лебедева   \n",
       "416868                    Плохой сигнал. Стань человеком!      Tubus Show   \n",
       "\n",
       "       category_id              publish_time  \\\n",
       "0               22  2017-11-13T09:09:31.000Z   \n",
       "1               22  2017-11-13T17:32:11.000Z   \n",
       "2               24  2017-11-13T16:11:31.000Z   \n",
       "3               22  2017-11-13T06:51:10.000Z   \n",
       "4               24  2017-11-13T16:52:36.000Z   \n",
       "...            ...                       ...   \n",
       "416864          22  2018-06-13T13:47:01.000Z   \n",
       "416865          23  2018-06-12T09:38:38.000Z   \n",
       "416866          24  2018-06-13T12:51:23.000Z   \n",
       "416867          22  2018-06-13T00:23:33.000Z   \n",
       "416868          29  2018-06-13T09:50:09.000Z   \n",
       "\n",
       "                                                     tags   views  likes  \\\n",
       "0       \"захар и полина|\"\"учимся экономить\"\"|\"\"копить ...   62408    334   \n",
       "1       \"биржа мемов|\"\"лев шагинян\"\"|\"\"мемы\"\"|\"\"пикчи\"...  330043  43841   \n",
       "2       \"юмор|\"\"комедия\"\"|\"\"влог\"\"|\"\"блог\"\"|\"\"смешно\"\"...  424596  49854   \n",
       "3       \"хохланд|\"\"сыр\"\"|\"\"рецепты\"\"|\"\"как приготовить...  112851   3566   \n",
       "4       \"Совергон|\"\"Sovergon\"\"|\"\"клипы\"\"|\"\"родители\"\"|...  243469  36216   \n",
       "...                                                   ...     ...    ...   \n",
       "416864  \"story booth на русском|\"\"story booth перевод\"...  129488   5893   \n",
       "416865  \"кагарт|\"\"каги\"\"|\"\"цагарт\"\"|\"\"гагарт\"\"|\"\"какар...   99163   4659   \n",
       "416866                                             [none]  449611  24808   \n",
       "416867  \"рум тур ванной комнаты|\"\"room tour bathroom\"\"...   14225    793   \n",
       "416868  \"плохой сигнал|\"\"тубус шоу\"\"|\"\"reebok\"\"|\"\"стан...   52340   7708   \n",
       "\n",
       "       dislikes comment_count  \n",
       "0           190            50  \n",
       "1          2244          2977  \n",
       "2           714          2944  \n",
       "3           122            80  \n",
       "4           631          1692  \n",
       "...         ...           ...  \n",
       "416864      164           990  \n",
       "416865      337           692  \n",
       "416866       93           974  \n",
       "416867       39           209  \n",
       "416868      133          1819  \n",
       "\n",
       "[416869 rows x 11 columns]"
      ]
     },
     "execution_count": 11,
     "metadata": {},
     "output_type": "execute_result"
    }
   ],
   "source": [
    "all_csv.toPandas()"
   ]
  },
  {
   "cell_type": "code",
   "execution_count": 12,
   "id": "27060105",
   "metadata": {},
   "outputs": [],
   "source": [
    "#all_csv=all_csv.withColumn(\"country\",lit(\"country\")).show(5)"
   ]
  },
  {
   "cell_type": "code",
   "execution_count": 13,
   "id": "61d4ca1b",
   "metadata": {},
   "outputs": [
    {
     "name": "stdout",
     "output_type": "stream",
     "text": [
      "root\n",
      " |-- video_id: string (nullable = true)\n",
      " |-- trending_date: string (nullable = true)\n",
      " |-- title: string (nullable = true)\n",
      " |-- channel_title: string (nullable = true)\n",
      " |-- category_id: string (nullable = true)\n",
      " |-- publish_time: string (nullable = true)\n",
      " |-- tags: string (nullable = true)\n",
      " |-- views: string (nullable = true)\n",
      " |-- likes: string (nullable = true)\n",
      " |-- dislikes: string (nullable = true)\n",
      " |-- comment_count: string (nullable = true)\n",
      "\n"
     ]
    }
   ],
   "source": [
    "all_csv.printSchema()"
   ]
  },
  {
   "cell_type": "code",
   "execution_count": 14,
   "id": "cf3f50b3",
   "metadata": {},
   "outputs": [
    {
     "ename": "NameError",
     "evalue": "name 'allcsv' is not defined",
     "output_type": "error",
     "traceback": [
      "\u001b[1;31m---------------------------------------------------------------------------\u001b[0m",
      "\u001b[1;31mNameError\u001b[0m                                 Traceback (most recent call last)",
      "\u001b[1;32m<ipython-input-14-a989a13cafa7>\u001b[0m in \u001b[0;36m<module>\u001b[1;34m\u001b[0m\n\u001b[0;32m      1\u001b[0m \u001b[0mall_dfs\u001b[0m \u001b[1;33m=\u001b[0m \u001b[1;33m[\u001b[0m\u001b[1;33m]\u001b[0m \u001b[1;31m# list to store each data frame separately\u001b[0m\u001b[1;33m\u001b[0m\u001b[1;33m\u001b[0m\u001b[0m\n\u001b[1;32m----> 2\u001b[1;33m \u001b[1;32mfor\u001b[0m \u001b[0mcsv\u001b[0m \u001b[1;32min\u001b[0m \u001b[0mallcsv\u001b[0m\u001b[1;33m:\u001b[0m\u001b[1;33m\u001b[0m\u001b[1;33m\u001b[0m\u001b[0m\n\u001b[0m\u001b[0;32m      3\u001b[0m     \u001b[0mdf\u001b[0m \u001b[1;33m=\u001b[0m \u001b[0mpd\u001b[0m\u001b[1;33m.\u001b[0m\u001b[0mread_csv\u001b[0m\u001b[1;33m(\u001b[0m\u001b[0mcsv\u001b[0m\u001b[1;33m)\u001b[0m\u001b[1;33m\u001b[0m\u001b[1;33m\u001b[0m\u001b[0m\n\u001b[0;32m      4\u001b[0m     \u001b[0mdf\u001b[0m\u001b[1;33m[\u001b[0m\u001b[1;34m'country'\u001b[0m\u001b[1;33m]\u001b[0m \u001b[1;33m=\u001b[0m \u001b[0mcsv\u001b[0m\u001b[1;33m[\u001b[0m\u001b[1;36m0\u001b[0m\u001b[1;33m:\u001b[0m\u001b[1;36m2\u001b[0m\u001b[1;33m]\u001b[0m \u001b[1;31m# adding column 'country' so that each dataset could be identified uniquely\u001b[0m\u001b[1;33m\u001b[0m\u001b[1;33m\u001b[0m\u001b[0m\n\u001b[0;32m      5\u001b[0m     \u001b[0mall_dfs\u001b[0m\u001b[1;33m.\u001b[0m\u001b[0mappend\u001b[0m\u001b[1;33m(\u001b[0m\u001b[0mdf\u001b[0m\u001b[1;33m)\u001b[0m\u001b[1;33m\u001b[0m\u001b[1;33m\u001b[0m\u001b[0m\n",
      "\u001b[1;31mNameError\u001b[0m: name 'allcsv' is not defined"
     ]
    }
   ],
   "source": [
    "all_dfs = [] # list to store each data frame separately\n",
    "for csv in allcsv:\n",
    "    df = pd.read_csv(csv)\n",
    "    df['country'] = csv[0:2] # adding column 'country' so that each dataset could be identified uniquely\n",
    "    all_dfs.append(df)\n",
    "all_dfs[0].head()"
   ]
  },
  {
   "cell_type": "code",
   "execution_count": 64,
   "id": "be025c6e",
   "metadata": {},
   "outputs": [
    {
     "name": "stdout",
     "output_type": "stream",
     "text": [
      "+-----------+-------------+--------------------+-------------+-----------+--------------------+--------------------+------+-----+--------+-------------+------------+\n",
      "|   video_id|trending_date|               title|channel_title|category_id|        publish_time|                tags| views|likes|dislikes|comment_count|publish_date|\n",
      "+-----------+-------------+--------------------+-------------+-----------+--------------------+--------------------+------+-----+--------+-------------+------------+\n",
      "|gDuslQ9avLc|     17.14.11|Захар и Полина уч...|    Т—Ж БОГАЧ|         22|2017-11-13T09:09:...|\"захар и полина|\"...| 62408|  334|     190|           50|  2017-11-13|\n",
      "|AOCJIFEA_jE|     17.14.11|Биржа Мемов #29. ...| Druzhko Show|         22|2017-11-13T17:32:...|\"биржа мемов|\"\"ле...|330043|43841|    2244|         2977|  2017-11-13|\n",
      "|VAWNQDgwwOM|     17.14.11|ХАЙП КЭМП - СВОЙ ...|         Юлик|         24|2017-11-13T16:11:...|\"юмор|\"\"комедия\"\"...|424596|49854|     714|         2944|  2017-11-13|\n",
      "|gknkFwKQfHg|     17.14.11|Сочная кесадилья ...|     Hochland|         22|2017-11-13T06:51:...|\"хохланд|\"\"сыр\"\"|...|112851| 3566|     122|           80|  2017-11-13|\n",
      "|3sYvZcwzZr8|     17.14.11|КЛИПЫ РОДИТЕЛЕЙ Н...|     Совергон|         24|2017-11-13T16:52:...|\"Совергон|\"\"Sover...|243469|36216|     631|         1692|  2017-11-13|\n",
      "+-----------+-------------+--------------------+-------------+-----------+--------------------+--------------------+------+-----+--------+-------------+------------+\n",
      "only showing top 5 rows\n",
      "\n"
     ]
    }
   ],
   "source": [
    "all_csv=all_csv.withColumn(\"publish_date\",to_date(all_csv.publish_time))\n",
    "all_csv.select('publish_date')\n",
    "all_csv.show(5)"
   ]
  },
  {
   "cell_type": "code",
   "execution_count": 29,
   "id": "a3ab66ce",
   "metadata": {},
   "outputs": [
    {
     "data": {
      "text/plain": [
       "[('video_id', 'string'),\n",
       " ('trending_date', 'string'),\n",
       " ('title', 'string'),\n",
       " ('channel_title', 'string'),\n",
       " ('category_id', 'string'),\n",
       " ('publish_time', 'string'),\n",
       " ('tags', 'string'),\n",
       " ('views', 'string'),\n",
       " ('likes', 'string'),\n",
       " ('dislikes', 'string'),\n",
       " ('comment_count', 'string'),\n",
       " ('publish_date', 'date')]"
      ]
     },
     "execution_count": 29,
     "metadata": {},
     "output_type": "execute_result"
    }
   ],
   "source": [
    "all_csv.dtypes"
   ]
  },
  {
   "cell_type": "code",
   "execution_count": 30,
   "id": "95b4918e",
   "metadata": {},
   "outputs": [
    {
     "name": "stdout",
     "output_type": "stream",
     "text": [
      "+--------------------+\n",
      "|        publish_time|\n",
      "+--------------------+\n",
      "|2017-11-13T09:09:...|\n",
      "|2017-11-13T17:32:...|\n",
      "|2017-11-13T16:11:...|\n",
      "|2017-11-13T06:51:...|\n",
      "|2017-11-13T16:52:...|\n",
      "+--------------------+\n",
      "only showing top 5 rows\n",
      "\n"
     ]
    }
   ],
   "source": [
    "df=all_csv.select('publish_time')\n",
    "df.show(5)"
   ]
  },
  {
   "cell_type": "code",
   "execution_count": null,
   "id": "7d0f09ab",
   "metadata": {},
   "outputs": [],
   "source": [
    "#all_csv.withColumn('publishtime',min(\"$publishtime\"))"
   ]
  },
  {
   "cell_type": "code",
   "execution_count": 65,
   "id": "cf2a9a42",
   "metadata": {},
   "outputs": [
    {
     "name": "stdout",
     "output_type": "stream",
     "text": [
      "+-----------+-------------+--------------------+-------------+-----------+--------------------+--------------------+------+-----+--------+-------------+------------+-------------------+\n",
      "|   video_id|trending_date|               title|channel_title|category_id|        publish_time|                tags| views|likes|dislikes|comment_count|publish_date|        publishtime|\n",
      "+-----------+-------------+--------------------+-------------+-----------+--------------------+--------------------+------+-----+--------+-------------+------------+-------------------+\n",
      "|gDuslQ9avLc|     17.14.11|Захар и Полина уч...|    Т—Ж БОГАЧ|         22|2017-11-13T09:09:...|\"захар и полина|\"...| 62408|  334|     190|           50|  2017-11-13|2017-11-13 14:39:31|\n",
      "|AOCJIFEA_jE|     17.14.11|Биржа Мемов #29. ...| Druzhko Show|         22|2017-11-13T17:32:...|\"биржа мемов|\"\"ле...|330043|43841|    2244|         2977|  2017-11-13|2017-11-13 23:02:11|\n",
      "|VAWNQDgwwOM|     17.14.11|ХАЙП КЭМП - СВОЙ ...|         Юлик|         24|2017-11-13T16:11:...|\"юмор|\"\"комедия\"\"...|424596|49854|     714|         2944|  2017-11-13|2017-11-13 21:41:31|\n",
      "|gknkFwKQfHg|     17.14.11|Сочная кесадилья ...|     Hochland|         22|2017-11-13T06:51:...|\"хохланд|\"\"сыр\"\"|...|112851| 3566|     122|           80|  2017-11-13|2017-11-13 12:21:10|\n",
      "|3sYvZcwzZr8|     17.14.11|КЛИПЫ РОДИТЕЛЕЙ Н...|     Совергон|         24|2017-11-13T16:52:...|\"Совергон|\"\"Sover...|243469|36216|     631|         1692|  2017-11-13|2017-11-13 22:22:36|\n",
      "+-----------+-------------+--------------------+-------------+-----------+--------------------+--------------------+------+-----+--------+-------------+------------+-------------------+\n",
      "only showing top 5 rows\n",
      "\n"
     ]
    }
   ],
   "source": [
    "all_csv=all_csv.withColumn('publishtime',to_timestamp(all_csv.publish_time))\n",
    "all_csv.select('publishtime')\n",
    "all_csv.show(5)"
   ]
  },
  {
   "cell_type": "code",
   "execution_count": 67,
   "id": "b58ee924",
   "metadata": {},
   "outputs": [
    {
     "name": "stdout",
     "output_type": "stream",
     "text": [
      "root\n",
      " |-- video_id: string (nullable = true)\n",
      " |-- trending_date: string (nullable = true)\n",
      " |-- title: string (nullable = true)\n",
      " |-- channel_title: string (nullable = true)\n",
      " |-- category_id: string (nullable = true)\n",
      " |-- publish_time: string (nullable = true)\n",
      " |-- tags: string (nullable = true)\n",
      " |-- views: string (nullable = true)\n",
      " |-- likes: string (nullable = true)\n",
      " |-- dislikes: string (nullable = true)\n",
      " |-- comment_count: string (nullable = true)\n",
      " |-- publish_date: date (nullable = true)\n",
      " |-- publishtime: timestamp (nullable = true)\n",
      "\n"
     ]
    }
   ],
   "source": [
    "all_csv.printSchema()"
   ]
  },
  {
   "cell_type": "code",
   "execution_count": 66,
   "id": "b601766e",
   "metadata": {},
   "outputs": [
    {
     "name": "stdout",
     "output_type": "stream",
     "text": [
      "+-------------+\n",
      "|trending_date|\n",
      "+-------------+\n",
      "|     17.14.11|\n",
      "|     17.14.11|\n",
      "|     17.14.11|\n",
      "|     17.14.11|\n",
      "|     17.14.11|\n",
      "+-------------+\n",
      "only showing top 5 rows\n",
      "\n"
     ]
    }
   ],
   "source": [
    "df1=all_csv.select('trending_date')\n",
    "df1.show(5)"
   ]
  },
  {
   "cell_type": "code",
   "execution_count": 41,
   "id": "f37a376c",
   "metadata": {},
   "outputs": [],
   "source": [
    "all_csv.createOrReplaceTempView(\"youtube\")"
   ]
  },
  {
   "cell_type": "code",
   "execution_count": 48,
   "id": "31e04b58",
   "metadata": {},
   "outputs": [
    {
     "data": {
      "text/plain": [
       "DataFrame[date_format(CAST(trending_date AS TIMESTAMP), ddMMyyyy): string]"
      ]
     },
     "execution_count": 48,
     "metadata": {},
     "output_type": "execute_result"
    }
   ],
   "source": [
    "spark.sql(\"select DATE_FORMAT(trending_date,'ddMMyyyy') from youtube\")"
   ]
  },
  {
   "cell_type": "code",
   "execution_count": 40,
   "id": "4a589d28",
   "metadata": {},
   "outputs": [
    {
     "ename": "TypeError",
     "evalue": "Can not infer schema for type: <class 'str'>",
     "output_type": "error",
     "traceback": [
      "\u001b[1;31m---------------------------------------------------------------------------\u001b[0m",
      "\u001b[1;31mTypeError\u001b[0m                                 Traceback (most recent call last)",
      "\u001b[1;32m<ipython-input-40-063520742682>\u001b[0m in \u001b[0;36m<module>\u001b[1;34m\u001b[0m\n\u001b[0;32m      1\u001b[0m \u001b[0mall_csv\u001b[0m\u001b[1;33m.\u001b[0m\u001b[0mcreateOrReplaceTempView\u001b[0m\u001b[1;33m(\u001b[0m\u001b[1;34m\"youtube\"\u001b[0m\u001b[1;33m)\u001b[0m\u001b[1;33m\u001b[0m\u001b[1;33m\u001b[0m\u001b[0m\n\u001b[1;32m----> 2\u001b[1;33m \u001b[0mdf\u001b[0m\u001b[1;33m=\u001b[0m\u001b[0mspark\u001b[0m\u001b[1;33m.\u001b[0m\u001b[0mcreateDataFrame\u001b[0m\u001b[1;33m(\u001b[0m\u001b[1;33m[\u001b[0m\u001b[1;34m'trending_date'\u001b[0m\u001b[1;33m]\u001b[0m\u001b[1;33m)\u001b[0m\u001b[1;33m\u001b[0m\u001b[1;33m\u001b[0m\u001b[0m\n\u001b[0m\u001b[0;32m      3\u001b[0m \u001b[1;31m#df1= spark.sql(select \"trending_date\"(convert(varchar, getdate(), 23)) as \"trending_date\" FROM 'youtube')\u001b[0m\u001b[1;33m\u001b[0m\u001b[1;33m\u001b[0m\u001b[1;33m\u001b[0m\u001b[0m\n",
      "\u001b[1;32m/Users/rishnamc/Documents/Maveric/Spark/spark-3.1.2-bin-hadoop2.7\\python\\pyspark\\sql\\session.py\u001b[0m in \u001b[0;36mcreateDataFrame\u001b[1;34m(self, data, schema, samplingRatio, verifySchema)\u001b[0m\n\u001b[0;32m    673\u001b[0m             return super(SparkSession, self).createDataFrame(\n\u001b[0;32m    674\u001b[0m                 data, schema, samplingRatio, verifySchema)\n\u001b[1;32m--> 675\u001b[1;33m         \u001b[1;32mreturn\u001b[0m \u001b[0mself\u001b[0m\u001b[1;33m.\u001b[0m\u001b[0m_create_dataframe\u001b[0m\u001b[1;33m(\u001b[0m\u001b[0mdata\u001b[0m\u001b[1;33m,\u001b[0m \u001b[0mschema\u001b[0m\u001b[1;33m,\u001b[0m \u001b[0msamplingRatio\u001b[0m\u001b[1;33m,\u001b[0m \u001b[0mverifySchema\u001b[0m\u001b[1;33m)\u001b[0m\u001b[1;33m\u001b[0m\u001b[1;33m\u001b[0m\u001b[0m\n\u001b[0m\u001b[0;32m    676\u001b[0m \u001b[1;33m\u001b[0m\u001b[0m\n\u001b[0;32m    677\u001b[0m     \u001b[1;32mdef\u001b[0m \u001b[0m_create_dataframe\u001b[0m\u001b[1;33m(\u001b[0m\u001b[0mself\u001b[0m\u001b[1;33m,\u001b[0m \u001b[0mdata\u001b[0m\u001b[1;33m,\u001b[0m \u001b[0mschema\u001b[0m\u001b[1;33m,\u001b[0m \u001b[0msamplingRatio\u001b[0m\u001b[1;33m,\u001b[0m \u001b[0mverifySchema\u001b[0m\u001b[1;33m)\u001b[0m\u001b[1;33m:\u001b[0m\u001b[1;33m\u001b[0m\u001b[1;33m\u001b[0m\u001b[0m\n",
      "\u001b[1;32m/Users/rishnamc/Documents/Maveric/Spark/spark-3.1.2-bin-hadoop2.7\\python\\pyspark\\sql\\session.py\u001b[0m in \u001b[0;36m_create_dataframe\u001b[1;34m(self, data, schema, samplingRatio, verifySchema)\u001b[0m\n\u001b[0;32m    698\u001b[0m             \u001b[0mrdd\u001b[0m\u001b[1;33m,\u001b[0m \u001b[0mschema\u001b[0m \u001b[1;33m=\u001b[0m \u001b[0mself\u001b[0m\u001b[1;33m.\u001b[0m\u001b[0m_createFromRDD\u001b[0m\u001b[1;33m(\u001b[0m\u001b[0mdata\u001b[0m\u001b[1;33m.\u001b[0m\u001b[0mmap\u001b[0m\u001b[1;33m(\u001b[0m\u001b[0mprepare\u001b[0m\u001b[1;33m)\u001b[0m\u001b[1;33m,\u001b[0m \u001b[0mschema\u001b[0m\u001b[1;33m,\u001b[0m \u001b[0msamplingRatio\u001b[0m\u001b[1;33m)\u001b[0m\u001b[1;33m\u001b[0m\u001b[1;33m\u001b[0m\u001b[0m\n\u001b[0;32m    699\u001b[0m         \u001b[1;32melse\u001b[0m\u001b[1;33m:\u001b[0m\u001b[1;33m\u001b[0m\u001b[1;33m\u001b[0m\u001b[0m\n\u001b[1;32m--> 700\u001b[1;33m             \u001b[0mrdd\u001b[0m\u001b[1;33m,\u001b[0m \u001b[0mschema\u001b[0m \u001b[1;33m=\u001b[0m \u001b[0mself\u001b[0m\u001b[1;33m.\u001b[0m\u001b[0m_createFromLocal\u001b[0m\u001b[1;33m(\u001b[0m\u001b[0mmap\u001b[0m\u001b[1;33m(\u001b[0m\u001b[0mprepare\u001b[0m\u001b[1;33m,\u001b[0m \u001b[0mdata\u001b[0m\u001b[1;33m)\u001b[0m\u001b[1;33m,\u001b[0m \u001b[0mschema\u001b[0m\u001b[1;33m)\u001b[0m\u001b[1;33m\u001b[0m\u001b[1;33m\u001b[0m\u001b[0m\n\u001b[0m\u001b[0;32m    701\u001b[0m         \u001b[0mjrdd\u001b[0m \u001b[1;33m=\u001b[0m \u001b[0mself\u001b[0m\u001b[1;33m.\u001b[0m\u001b[0m_jvm\u001b[0m\u001b[1;33m.\u001b[0m\u001b[0mSerDeUtil\u001b[0m\u001b[1;33m.\u001b[0m\u001b[0mtoJavaArray\u001b[0m\u001b[1;33m(\u001b[0m\u001b[0mrdd\u001b[0m\u001b[1;33m.\u001b[0m\u001b[0m_to_java_object_rdd\u001b[0m\u001b[1;33m(\u001b[0m\u001b[1;33m)\u001b[0m\u001b[1;33m)\u001b[0m\u001b[1;33m\u001b[0m\u001b[1;33m\u001b[0m\u001b[0m\n\u001b[0;32m    702\u001b[0m         \u001b[0mjdf\u001b[0m \u001b[1;33m=\u001b[0m \u001b[0mself\u001b[0m\u001b[1;33m.\u001b[0m\u001b[0m_jsparkSession\u001b[0m\u001b[1;33m.\u001b[0m\u001b[0mapplySchemaToPythonRDD\u001b[0m\u001b[1;33m(\u001b[0m\u001b[0mjrdd\u001b[0m\u001b[1;33m.\u001b[0m\u001b[0mrdd\u001b[0m\u001b[1;33m(\u001b[0m\u001b[1;33m)\u001b[0m\u001b[1;33m,\u001b[0m \u001b[0mschema\u001b[0m\u001b[1;33m.\u001b[0m\u001b[0mjson\u001b[0m\u001b[1;33m(\u001b[0m\u001b[1;33m)\u001b[0m\u001b[1;33m)\u001b[0m\u001b[1;33m\u001b[0m\u001b[1;33m\u001b[0m\u001b[0m\n",
      "\u001b[1;32m/Users/rishnamc/Documents/Maveric/Spark/spark-3.1.2-bin-hadoop2.7\\python\\pyspark\\sql\\session.py\u001b[0m in \u001b[0;36m_createFromLocal\u001b[1;34m(self, data, schema)\u001b[0m\n\u001b[0;32m    510\u001b[0m \u001b[1;33m\u001b[0m\u001b[0m\n\u001b[0;32m    511\u001b[0m         \u001b[1;32mif\u001b[0m \u001b[0mschema\u001b[0m \u001b[1;32mis\u001b[0m \u001b[1;32mNone\u001b[0m \u001b[1;32mor\u001b[0m \u001b[0misinstance\u001b[0m\u001b[1;33m(\u001b[0m\u001b[0mschema\u001b[0m\u001b[1;33m,\u001b[0m \u001b[1;33m(\u001b[0m\u001b[0mlist\u001b[0m\u001b[1;33m,\u001b[0m \u001b[0mtuple\u001b[0m\u001b[1;33m)\u001b[0m\u001b[1;33m)\u001b[0m\u001b[1;33m:\u001b[0m\u001b[1;33m\u001b[0m\u001b[1;33m\u001b[0m\u001b[0m\n\u001b[1;32m--> 512\u001b[1;33m             \u001b[0mstruct\u001b[0m \u001b[1;33m=\u001b[0m \u001b[0mself\u001b[0m\u001b[1;33m.\u001b[0m\u001b[0m_inferSchemaFromList\u001b[0m\u001b[1;33m(\u001b[0m\u001b[0mdata\u001b[0m\u001b[1;33m,\u001b[0m \u001b[0mnames\u001b[0m\u001b[1;33m=\u001b[0m\u001b[0mschema\u001b[0m\u001b[1;33m)\u001b[0m\u001b[1;33m\u001b[0m\u001b[1;33m\u001b[0m\u001b[0m\n\u001b[0m\u001b[0;32m    513\u001b[0m             \u001b[0mconverter\u001b[0m \u001b[1;33m=\u001b[0m \u001b[0m_create_converter\u001b[0m\u001b[1;33m(\u001b[0m\u001b[0mstruct\u001b[0m\u001b[1;33m)\u001b[0m\u001b[1;33m\u001b[0m\u001b[1;33m\u001b[0m\u001b[0m\n\u001b[0;32m    514\u001b[0m             \u001b[0mdata\u001b[0m \u001b[1;33m=\u001b[0m \u001b[0mmap\u001b[0m\u001b[1;33m(\u001b[0m\u001b[0mconverter\u001b[0m\u001b[1;33m,\u001b[0m \u001b[0mdata\u001b[0m\u001b[1;33m)\u001b[0m\u001b[1;33m\u001b[0m\u001b[1;33m\u001b[0m\u001b[0m\n",
      "\u001b[1;32m/Users/rishnamc/Documents/Maveric/Spark/spark-3.1.2-bin-hadoop2.7\\python\\pyspark\\sql\\session.py\u001b[0m in \u001b[0;36m_inferSchemaFromList\u001b[1;34m(self, data, names)\u001b[0m\n\u001b[0;32m    437\u001b[0m         \u001b[1;32mif\u001b[0m \u001b[1;32mnot\u001b[0m \u001b[0mdata\u001b[0m\u001b[1;33m:\u001b[0m\u001b[1;33m\u001b[0m\u001b[1;33m\u001b[0m\u001b[0m\n\u001b[0;32m    438\u001b[0m             \u001b[1;32mraise\u001b[0m \u001b[0mValueError\u001b[0m\u001b[1;33m(\u001b[0m\u001b[1;34m\"can not infer schema from empty dataset\"\u001b[0m\u001b[1;33m)\u001b[0m\u001b[1;33m\u001b[0m\u001b[1;33m\u001b[0m\u001b[0m\n\u001b[1;32m--> 439\u001b[1;33m         \u001b[0mschema\u001b[0m \u001b[1;33m=\u001b[0m \u001b[0mreduce\u001b[0m\u001b[1;33m(\u001b[0m\u001b[0m_merge_type\u001b[0m\u001b[1;33m,\u001b[0m \u001b[1;33m(\u001b[0m\u001b[0m_infer_schema\u001b[0m\u001b[1;33m(\u001b[0m\u001b[0mrow\u001b[0m\u001b[1;33m,\u001b[0m \u001b[0mnames\u001b[0m\u001b[1;33m)\u001b[0m \u001b[1;32mfor\u001b[0m \u001b[0mrow\u001b[0m \u001b[1;32min\u001b[0m \u001b[0mdata\u001b[0m\u001b[1;33m)\u001b[0m\u001b[1;33m)\u001b[0m\u001b[1;33m\u001b[0m\u001b[1;33m\u001b[0m\u001b[0m\n\u001b[0m\u001b[0;32m    440\u001b[0m         \u001b[1;32mif\u001b[0m \u001b[0m_has_nulltype\u001b[0m\u001b[1;33m(\u001b[0m\u001b[0mschema\u001b[0m\u001b[1;33m)\u001b[0m\u001b[1;33m:\u001b[0m\u001b[1;33m\u001b[0m\u001b[1;33m\u001b[0m\u001b[0m\n\u001b[0;32m    441\u001b[0m             \u001b[1;32mraise\u001b[0m \u001b[0mValueError\u001b[0m\u001b[1;33m(\u001b[0m\u001b[1;34m\"Some of types cannot be determined after inferring\"\u001b[0m\u001b[1;33m)\u001b[0m\u001b[1;33m\u001b[0m\u001b[1;33m\u001b[0m\u001b[0m\n",
      "\u001b[1;32m/Users/rishnamc/Documents/Maveric/Spark/spark-3.1.2-bin-hadoop2.7\\python\\pyspark\\sql\\session.py\u001b[0m in \u001b[0;36m<genexpr>\u001b[1;34m(.0)\u001b[0m\n\u001b[0;32m    437\u001b[0m         \u001b[1;32mif\u001b[0m \u001b[1;32mnot\u001b[0m \u001b[0mdata\u001b[0m\u001b[1;33m:\u001b[0m\u001b[1;33m\u001b[0m\u001b[1;33m\u001b[0m\u001b[0m\n\u001b[0;32m    438\u001b[0m             \u001b[1;32mraise\u001b[0m \u001b[0mValueError\u001b[0m\u001b[1;33m(\u001b[0m\u001b[1;34m\"can not infer schema from empty dataset\"\u001b[0m\u001b[1;33m)\u001b[0m\u001b[1;33m\u001b[0m\u001b[1;33m\u001b[0m\u001b[0m\n\u001b[1;32m--> 439\u001b[1;33m         \u001b[0mschema\u001b[0m \u001b[1;33m=\u001b[0m \u001b[0mreduce\u001b[0m\u001b[1;33m(\u001b[0m\u001b[0m_merge_type\u001b[0m\u001b[1;33m,\u001b[0m \u001b[1;33m(\u001b[0m\u001b[0m_infer_schema\u001b[0m\u001b[1;33m(\u001b[0m\u001b[0mrow\u001b[0m\u001b[1;33m,\u001b[0m \u001b[0mnames\u001b[0m\u001b[1;33m)\u001b[0m \u001b[1;32mfor\u001b[0m \u001b[0mrow\u001b[0m \u001b[1;32min\u001b[0m \u001b[0mdata\u001b[0m\u001b[1;33m)\u001b[0m\u001b[1;33m)\u001b[0m\u001b[1;33m\u001b[0m\u001b[1;33m\u001b[0m\u001b[0m\n\u001b[0m\u001b[0;32m    440\u001b[0m         \u001b[1;32mif\u001b[0m \u001b[0m_has_nulltype\u001b[0m\u001b[1;33m(\u001b[0m\u001b[0mschema\u001b[0m\u001b[1;33m)\u001b[0m\u001b[1;33m:\u001b[0m\u001b[1;33m\u001b[0m\u001b[1;33m\u001b[0m\u001b[0m\n\u001b[0;32m    441\u001b[0m             \u001b[1;32mraise\u001b[0m \u001b[0mValueError\u001b[0m\u001b[1;33m(\u001b[0m\u001b[1;34m\"Some of types cannot be determined after inferring\"\u001b[0m\u001b[1;33m)\u001b[0m\u001b[1;33m\u001b[0m\u001b[1;33m\u001b[0m\u001b[0m\n",
      "\u001b[1;32m/Users/rishnamc/Documents/Maveric/Spark/spark-3.1.2-bin-hadoop2.7\\python\\pyspark\\sql\\types.py\u001b[0m in \u001b[0;36m_infer_schema\u001b[1;34m(row, names)\u001b[0m\n\u001b[0;32m   1063\u001b[0m \u001b[1;33m\u001b[0m\u001b[0m\n\u001b[0;32m   1064\u001b[0m     \u001b[1;32melse\u001b[0m\u001b[1;33m:\u001b[0m\u001b[1;33m\u001b[0m\u001b[1;33m\u001b[0m\u001b[0m\n\u001b[1;32m-> 1065\u001b[1;33m         \u001b[1;32mraise\u001b[0m \u001b[0mTypeError\u001b[0m\u001b[1;33m(\u001b[0m\u001b[1;34m\"Can not infer schema for type: %s\"\u001b[0m \u001b[1;33m%\u001b[0m \u001b[0mtype\u001b[0m\u001b[1;33m(\u001b[0m\u001b[0mrow\u001b[0m\u001b[1;33m)\u001b[0m\u001b[1;33m)\u001b[0m\u001b[1;33m\u001b[0m\u001b[1;33m\u001b[0m\u001b[0m\n\u001b[0m\u001b[0;32m   1066\u001b[0m \u001b[1;33m\u001b[0m\u001b[0m\n\u001b[0;32m   1067\u001b[0m     \u001b[0mfields\u001b[0m \u001b[1;33m=\u001b[0m \u001b[1;33m[\u001b[0m\u001b[1;33m]\u001b[0m\u001b[1;33m\u001b[0m\u001b[1;33m\u001b[0m\u001b[0m\n",
      "\u001b[1;31mTypeError\u001b[0m: Can not infer schema for type: <class 'str'>"
     ]
    }
   ],
   "source": [
    "all_csv.createOrReplaceTempView(\"youtube\")\n",
    "df1=spark.createDataFrame(['trending_date'])\n",
    "#df= spark.sql(select \"trending_date\"(convert(varchar, getdate(), 23)) as \"trending_date\" FROM 'youtube')"
   ]
  },
  {
   "cell_type": "code",
   "execution_count": null,
   "id": "d5c54ba8",
   "metadata": {
    "scrolled": false
   },
   "outputs": [],
   "source": [
    "#all_csv.withColumn(\"trendingdate\", f.format_string(\"20%d\",\"trendingdate\")).show(5)\n",
    "#a=20\n",
    "#b=col(\"trending_date\")\n",
    "#all_csv.concat_ws('20', \"trending_date\"): Column\t\n",
    "all_csv.select(col(\"trending_date\"),concat(\"20%d\",lit(\"\"),col(\"trending_date\")))\n",
    "#all_csv.select(\"20\", concat(col(\"trending_date\").to_date(all_csv.trending_date))).show()"
   ]
  },
  {
   "cell_type": "code",
   "execution_count": null,
   "id": "b0608c73",
   "metadata": {},
   "outputs": [],
   "source": [
    "all_csv=all_csv.select(date_format(col('trending_date'),\"yyyy-MM-dd\").alias('trending_date').cast(\"date\"))\n",
    "all_csv.show(10,False)"
   ]
  },
  {
   "cell_type": "code",
   "execution_count": null,
   "id": "f2d18105",
   "metadata": {},
   "outputs": [],
   "source": [
    "from pyspark.sql import functions as sf\n",
    "all_csv.withColumn('trending_date',sf.concat(sf.lit('20'), sf.col('trending_date'))).show()\n"
   ]
  },
  {
   "cell_type": "code",
   "execution_count": null,
   "id": "e5a40f38",
   "metadata": {},
   "outputs": [],
   "source": [
    "cor_rel=all_csv.corr(\"views\",\"likes\",\"pearson\")\n",
    "print(\"positive relationship : %a\" %cor_rel)"
   ]
  },
  {
   "cell_type": "code",
   "execution_count": null,
   "id": "16d15ac6",
   "metadata": {},
   "outputs": [],
   "source": []
  }
 ],
 "metadata": {
  "kernelspec": {
   "display_name": "Python 3",
   "language": "python",
   "name": "python3"
  },
  "language_info": {
   "codemirror_mode": {
    "name": "ipython",
    "version": 3
   },
   "file_extension": ".py",
   "mimetype": "text/x-python",
   "name": "python",
   "nbconvert_exporter": "python",
   "pygments_lexer": "ipython3",
   "version": "3.8.8"
  }
 },
 "nbformat": 4,
 "nbformat_minor": 5
}
