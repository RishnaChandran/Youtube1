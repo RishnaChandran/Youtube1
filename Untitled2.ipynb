{
 "cells": [
  {
   "cell_type": "code",
   "execution_count": 1,
   "id": "bd306e9d",
   "metadata": {},
   "outputs": [],
   "source": [
    "# for suppress warnings\n",
    "# python packages\n",
    "import matplotlib.pyplot as plt\n",
    "import seaborn as sns\n",
    "\n",
    "import warnings\n",
    "warnings.simplefilter(\"ignore\")"
   ]
  },
  {
   "cell_type": "code",
   "execution_count": 2,
   "id": "fd0a74d3",
   "metadata": {},
   "outputs": [
    {
     "name": "stdout",
     "output_type": "stream",
     "text": [
      "pyspark-shell\n"
     ]
    }
   ],
   "source": [
    "import os\n",
    "os.environ[\"JAVA_HOME\"] = \"/Program Files/Java/jdk1.8.0_281\"\n",
    "os.environ[\"SPARK_HOME\"] = \"/Users/rishnamc/Documents/Maveric/Spark/spark-3.1.2-bin-hadoop2.7\"\n",
    "\n",
    "import findspark\n",
    "findspark.init()\n",
    "\n",
    "import json\n",
    "import pyspark\n",
    "import glob as g\n",
    "from pyspark.sql import SparkSession\n",
    "from pyspark import SparkConf\n",
    "from pyspark import SparkContext\n",
    "import pyspark.sql.functions as f\n",
    "from pyspark.sql.types import *\n",
    "from pyspark.sql.functions import *\n",
    "\n",
    "sc = SparkContext.getOrCreate(SparkConf().setMaster(\"local[*]\"))\n",
    "spark = SparkSession.builder.appName(\"YouTube Data Analysis\").getOrCreate()\n",
    "print(spark.sparkContext.appName)"
   ]
  },
  {
   "cell_type": "code",
   "execution_count": 3,
   "id": "3e0bc8a4",
   "metadata": {},
   "outputs": [],
   "source": [
    "csv_df=spark.read.csv(header=True,inferSchema=True,path=['CAvideos.csv','USvideos.csv','GBvideos.csv'])"
   ]
  },
  {
   "cell_type": "code",
   "execution_count": 4,
   "id": "640166ce",
   "metadata": {},
   "outputs": [
    {
     "name": "stdout",
     "output_type": "stream",
     "text": [
      "root\n",
      " |-- video_id: string (nullable = true)\n",
      " |-- trending_date: string (nullable = true)\n",
      " |-- title: string (nullable = true)\n",
      " |-- channel_title: string (nullable = true)\n",
      " |-- category_id: string (nullable = true)\n",
      " |-- publish_time: string (nullable = true)\n",
      " |-- tags: string (nullable = true)\n",
      " |-- views: string (nullable = true)\n",
      " |-- likes: string (nullable = true)\n",
      " |-- dislikes: string (nullable = true)\n",
      " |-- comment_count: string (nullable = true)\n",
      " |-- thumbnail_link: string (nullable = true)\n",
      " |-- comments_disabled: string (nullable = true)\n",
      " |-- ratings_disabled: string (nullable = true)\n",
      " |-- video_error_or_removed: string (nullable = true)\n",
      " |-- description: string (nullable = true)\n",
      "\n",
      "+-----------+-------------+--------------------+-------------+-----------+--------------------+--------------------+--------+-------+--------+-------------+--------------------+-----------------+----------------+----------------------+--------------------+\n",
      "|   video_id|trending_date|               title|channel_title|category_id|        publish_time|                tags|   views|  likes|dislikes|comment_count|      thumbnail_link|comments_disabled|ratings_disabled|video_error_or_removed|         description|\n",
      "+-----------+-------------+--------------------+-------------+-----------+--------------------+--------------------+--------+-------+--------+-------------+--------------------+-----------------+----------------+----------------------+--------------------+\n",
      "|n1WpP7iowLc|     17.14.11|Eminem - Walk On ...|   EminemVEVO|         10|2017-11-10T17:00:...|\"Eminem\"|\"Walk\"|\"...|17158579| 787425|   43420|       125882|https://i.ytimg.c...|            False|           False|                 False|Eminem's new trac...|\n",
      "|0dBIkQ4Mz1M|     17.14.11|PLUSH - Bad Unbox...|    iDubbbzTV|         23|2017-11-13T17:00:...|\"plush\"|\"bad unbo...| 1014651| 127794|    1688|        13030|https://i.ytimg.c...|            False|           False|                 False|STill got a lot o...|\n",
      "|5qpjK5DgCt4|     17.14.11|Racist Superman |...| Rudy Mancuso|         23|2017-11-12T19:05:...|\"racist superman\"...| 3191434| 146035|    5339|         8181|https://i.ytimg.c...|            False|           False|                 False|WATCH MY PREVIOUS...|\n",
      "|d380meD0W0M|     17.14.11|I Dare You: GOING...|     nigahiga|         24|2017-11-12T18:01:...|\"ryan\"|\"higa\"|\"hi...| 2095828| 132239|    1989|        17518|https://i.ytimg.c...|            False|           False|                 False|I know it's been ...|\n",
      "|2Vv-BfVoq4g|     17.14.11|Ed Sheeran - Perf...|   Ed Sheeran|         10|2017-11-09T11:04:...|\"edsheeran\"|\"ed s...|33523622|1634130|   21082|        85067|https://i.ytimg.c...|            False|           False|                 False|🎧: https://ad.gt...|\n",
      "+-----------+-------------+--------------------+-------------+-----------+--------------------+--------------------+--------+-------+--------+-------------+--------------------+-----------------+----------------+----------------------+--------------------+\n",
      "only showing top 5 rows\n",
      "\n"
     ]
    }
   ],
   "source": [
    "csv_df.printSchema()\n",
    "csv_df.show(5)"
   ]
  },
  {
   "cell_type": "code",
   "execution_count": 5,
   "id": "e3cbd72e",
   "metadata": {},
   "outputs": [],
   "source": [
    "json_df=spark.read.option(\"multiline\",\"true\").json(['CA_category_id.json','US_category_id.json','GB_category_id.json'])"
   ]
  },
  {
   "cell_type": "code",
   "execution_count": 11,
   "id": "2ccc7389",
   "metadata": {},
   "outputs": [
    {
     "name": "stdout",
     "output_type": "stream",
     "text": [
      "root\n",
      " |-- etag: string (nullable = true)\n",
      " |-- items: array (nullable = true)\n",
      " |    |-- element: struct (containsNull = true)\n",
      " |    |    |-- etag: string (nullable = true)\n",
      " |    |    |-- id: string (nullable = true)\n",
      " |    |    |-- kind: string (nullable = true)\n",
      " |    |    |-- snippet: struct (nullable = true)\n",
      " |    |    |    |-- assignable: boolean (nullable = true)\n",
      " |    |    |    |-- channelId: string (nullable = true)\n",
      " |    |    |    |-- title: string (nullable = true)\n",
      " |-- kind: string (nullable = true)\n",
      "\n",
      "+--------------------+--------------------+--------------------+\n",
      "|                etag|               items|                kind|\n",
      "+--------------------+--------------------+--------------------+\n",
      "|\"m2yskBQFythfE4ir...|[{\"m2yskBQFythfE4...|youtube#videoCate...|\n",
      "|\"m2yskBQFythfE4ir...|[{\"m2yskBQFythfE4...|youtube#videoCate...|\n",
      "|\"ld9biNPKjAjgjV7E...|[{\"ld9biNPKjAjgjV...|youtube#videoCate...|\n",
      "+--------------------+--------------------+--------------------+\n",
      "\n"
     ]
    }
   ],
   "source": [
    "json_df.printSchema()\n",
    "json_df.show()\n",
    "#json_df.show(truncate=False)"
   ]
  },
  {
   "cell_type": "code",
   "execution_count": 7,
   "id": "ed3d10a8",
   "metadata": {},
   "outputs": [
    {
     "data": {
      "text/plain": [
       "DataFrame[etag: string, items: array<struct<etag:string,id:string,kind:string,snippet:struct<assignable:boolean,channelId:string,title:string>>>, kind: string]"
      ]
     },
     "metadata": {},
     "output_type": "display_data"
    }
   ],
   "source": [
    "display(json_df)"
   ]
  },
  {
   "cell_type": "code",
   "execution_count": 8,
   "id": "c74c996d",
   "metadata": {},
   "outputs": [],
   "source": [
    "#json_df.select(['element.id','element.kind','snippet.title']).show(10,False)"
   ]
  },
  {
   "cell_type": "code",
   "execution_count": 9,
   "id": "125d6102",
   "metadata": {},
   "outputs": [
    {
     "ename": "SyntaxError",
     "evalue": "closing parenthesis ']' does not match opening parenthesis '(' (<ipython-input-9-2fa0a235f6a7>, line 3)",
     "output_type": "error",
     "traceback": [
      "\u001b[1;36m  File \u001b[1;32m\"<ipython-input-9-2fa0a235f6a7>\"\u001b[1;36m, line \u001b[1;32m3\u001b[0m\n\u001b[1;33m    ,StructField(\"etag\", StringType()])\u001b[0m\n\u001b[1;37m                                     ^\u001b[0m\n\u001b[1;31mSyntaxError\u001b[0m\u001b[1;31m:\u001b[0m closing parenthesis ']' does not match opening parenthesis '('\n"
     ]
    }
   ],
   "source": [
    "mySchema = StructType([ StructField(\"etag\", StringType(), True)\\\n",
    "                       ,StructField(\"items\", ArrayType(), True)\\\n",
    "                       ,StructField(\"etag\", StringType()])"
   ]
  },
  {
   "cell_type": "code",
   "execution_count": null,
   "id": "fb1b62dd",
   "metadata": {},
   "outputs": [],
   "source": [
    "json_df.createOrReplaceTempView(\"youtube\")\n",
    "cat_json=spark.sql(\"select title from youtube\")\n",
    "cat_json.show()"
   ]
  },
  {
   "cell_type": "code",
   "execution_count": null,
   "id": "c7f8856f",
   "metadata": {},
   "outputs": [],
   "source": []
  }
 ],
 "metadata": {
  "kernelspec": {
   "display_name": "Python 3",
   "language": "python",
   "name": "python3"
  },
  "language_info": {
   "codemirror_mode": {
    "name": "ipython",
    "version": 3
   },
   "file_extension": ".py",
   "mimetype": "text/x-python",
   "name": "python",
   "nbconvert_exporter": "python",
   "pygments_lexer": "ipython3",
   "version": "3.8.8"
  }
 },
 "nbformat": 4,
 "nbformat_minor": 5
}
